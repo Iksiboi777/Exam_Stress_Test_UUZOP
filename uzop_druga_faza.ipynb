{
 "cells": [
  {
   "cell_type": "markdown",
   "metadata": {
    "collapsed": false
   },
   "source": [
    "# UZOP Projekt\n",
    "\n",
    "## Druga faza - replikacija rezultata\n",
    "\n",
    "Cilj 2. faze projekta jest:\n",
    "    - korištenjem dostupnih alata i metoda u članku replicirati dobivene rezultate\n",
    "    - objasniti eventualne razlike u rezultatima"
   ]
  },
  {
   "cell_type": "code",
   "execution_count": 23,
   "metadata": {},
   "outputs": [],
   "source": [
    "import numpy as np\n",
    "import pandas as pd\n",
    "from sklearn.neighbors import KNeighborsClassifier\n",
    "import matplotlib.pyplot as plt\n",
    "from sklearn.model_selection import train_test_split\n",
    "from sklearn.model_selection import KFold\n",
    "from sklearn.svm import SVC\n",
    "import math"
   ]
  },
  {
   "attachments": {},
   "cell_type": "markdown",
   "metadata": {},
   "source": [
    "Prije objašnjavanja rezultata, važno je napomenuti da su neki studenti skinuli svoj Empatica E4 sat jer su ranije završili pisanje ispita."
   ]
  },
  {
   "cell_type": "markdown",
   "metadata": {
    "collapsed": false
   },
   "source": [
    "Radi razumijevanja i jasnoće, na početku smo ispisali sve ocjene studenata na ispitima."
   ]
  },
  {
   "cell_type": "code",
   "execution_count": 24,
   "metadata": {},
   "outputs": [
    {
     "data": {
      "text/plain": [
       "['GRADES - MIDTERM 1',\n",
       " '------------------',\n",
       " 'S1 - 78',\n",
       " 'S2 - 82',\n",
       " 'S3 - 77',\n",
       " 'S4 - 75',\n",
       " 'S5 - 67',\n",
       " 'S6 - 71',\n",
       " 'S7 - 64',\n",
       " 'S8 - 92',\n",
       " 'S9 - 80',\n",
       " 'S10 - 89',\n",
       " 'GRADES - MIDTERM 2',\n",
       " '------------------',\n",
       " 'S1 - 82',\n",
       " 'S2 - 85',\n",
       " 'S3 - 90',\n",
       " 'S4 - 77',\n",
       " 'S5 - 77',\n",
       " 'S6 - 64',\n",
       " 'S7 - 33',\n",
       " 'S8 - 88',\n",
       " 'S9 - 39',\n",
       " 'S10 - 64',\n",
       " 'GRADES - FINAL (OUT OF 200)',\n",
       " '---------------------------',\n",
       " 'S1 - 182',\n",
       " 'S2 - 180',\n",
       " 'S3 - 188',\n",
       " 'S4 - 149',\n",
       " 'S5 - 157',\n",
       " 'S6 - 175',\n",
       " 'S7 - 110',\n",
       " 'S8 - 184',\n",
       " 'S9 - 126',\n",
       " 'S10 - 116']"
      ]
     },
     "execution_count": 24,
     "metadata": {},
     "output_type": "execute_result"
    }
   ],
   "source": [
    "points_file = open('StudentGrades.txt', 'r')\n",
    "lines = points_file.readlines()\n",
    "lines = [line.rstrip() for line in lines]\n",
    "lines = [line for line in lines if line]\n",
    "lines"
   ]
  },
  {
   "cell_type": "markdown",
   "metadata": {
    "collapsed": false
   },
   "source": [
    "Radi kasnijeg korištenja, kreirani su rječnici za svaki ispit koji sadrže ocjene za svakog studenta na dotičnom ispitu."
   ]
  },
  {
   "cell_type": "code",
   "execution_count": 26,
   "metadata": {},
   "outputs": [
    {
     "data": {
      "text/plain": [
       "{'S1': 91.0,\n",
       " 'S2': 90.0,\n",
       " 'S3': 94.0,\n",
       " 'S4': 74.5,\n",
       " 'S5': 78.5,\n",
       " 'S6': 87.5,\n",
       " 'S7': 55.0,\n",
       " 'S8': 92.0,\n",
       " 'S9': 63.0,\n",
       " 'S10': 58.0}"
      ]
     },
     "execution_count": 26,
     "metadata": {},
     "output_type": "execute_result"
    }
   ],
   "source": [
    "midterm_points = {}\n",
    "midterm2_points = {}\n",
    "final_points = {}\n",
    "\n",
    "for i, line in enumerate(lines):\n",
    "    if \"MIDTERM 1\" in line:\n",
    "        for midterm_line in lines[i+2:i+12]:\n",
    "            student = midterm_line\n",
    "            if 'S10' in student:\n",
    "                student = midterm_line[:3]\n",
    "            else:\n",
    "                student = midterm_line[:2]\n",
    "            grade = midterm_line[-2:]\n",
    "            midterm_points[student] = int(grade)\n",
    "            \n",
    "    if 'MIDTERM 2' in line:\n",
    "        for midterm2_line in lines[i+2:i+12]:\n",
    "            student = midterm2_line\n",
    "            if 'S10' in student:\n",
    "                student = midterm2_line[:3]\n",
    "            else:\n",
    "                student = midterm2_line[:2]\n",
    "            grade = midterm2_line[-2:]\n",
    "            midterm2_points[student] = int(grade)\n",
    "            \n",
    "    if 'FINAL' in line:\n",
    "        for final_line in lines[i+2:i+12]:\n",
    "            student = final_line\n",
    "            if 'S10' in student:\n",
    "                student = final_line[:3]\n",
    "            else:\n",
    "                student = final_line[:2]\n",
    "            grade = final_line[-3:]\n",
    "            final_points[student] = int(grade)/2\n",
    "\n",
    "final_points"
   ]
  },
  {
   "cell_type": "markdown",
   "metadata": {
    "collapsed": false
   },
   "source": [
    "Budući da je svaki student stavio sat 5 minuta prije pisanja ispita. Zbog toga, na podatacima na y-osi akcelerometra na satu mogu se vidjeti određene oscilacije, koje je potrebno ukloniti jer mogu imati loš utjecaj na točnost mjerenja. Navedeni grafovi prikazuju podatke y-osi akcelerometra za svakog studenta na svakom ispitu."
   ]
  },
  {
   "cell_type": "code",
   "execution_count": 48,
   "metadata": {
    "collapsed": false,
    "pycharm": {
     "name": "#%%\n"
    }
   },
   "outputs": [],
   "source": [
    "# test = [\"Midterm 1\", \"Midterm 2\", \"Final\"]\n",
    "# #plt.figure(figsize=(18,18))\n",
    "# for i in range (1, 11):\n",
    "#     for j in range(len(test)):\n",
    "#         accY_s1m1 = pd.read_csv ('Data/S' + str(i) + '/' + test[j] + '/ACC.csv')\n",
    "#         #print(accY_s1m1)\n",
    "#         accY_s1m1 = accY_s1m1[accY_s1m1.columns[1]]\n",
    "#         #display(accY_s1m1)\n",
    "#         sample_rate = 32\n",
    "#         accY_s1m1 = accY_s1m1.iloc[1:]\n",
    "\n",
    "#         #da se vidi di rezat - moze se zumirat sa npr plt.xlim(0, 50000)\n",
    "#         plt.figure(figsize=(18, 5))\n",
    "#         plt.xlim(0, 50000)\n",
    "#         plt.title(f\"S{i}, test: {test[j]}\")\n",
    "#         plt.plot(accY_s1m1)"
   ]
  },
  {
   "cell_type": "markdown",
   "metadata": {
    "collapsed": false
   },
   "source": [
    "Iz gornjih grafova intuitivno su uzeta područja koja će biti od interesa u analizi zbog mogućeg lošeg utjecaja na rezultate. Počeci tih područja navedeni su u idućoj ćeliji."
   ]
  },
  {
   "cell_type": "code",
   "execution_count": 7,
   "metadata": {},
   "outputs": [],
   "source": [
    "midterm1_beginning = {\n",
    "    'S1': 46650,\n",
    "    'S2': 47300,\n",
    "    'S3': 45292,\n",
    "    'S4': 46235,\n",
    "    'S5': 48080,\n",
    "    'S6': 44500,\n",
    "    'S7': 45304,\n",
    "    'S8': 46190,\n",
    "    'S9': 46677,\n",
    "    'S10': 47950\n",
    "}\n",
    "\n",
    "# midterm2_beginning = {\n",
    "#     'S1': 8428,\n",
    "#     'S2': 11800,\n",
    "#     'S3': 13553,\n",
    "#     'S4': 9570,\n",
    "#     'S5': 10291,\n",
    "#     'S6': 66650,\n",
    "#     'S7': 68758,\n",
    "#     'S8': 69449,\n",
    "#     'S9': 45166,\n",
    "#     'S10': 65053\n",
    "# }\n",
    "\n",
    "midterm2_beginning = {\n",
    "    'S1': 66650,\n",
    "    'S2': 66650,\n",
    "    'S3': 66650,\n",
    "    'S4': 66650,\n",
    "    'S5': 66650,\n",
    "    'S6': 66650,\n",
    "    'S7': 66650,\n",
    "    'S8': 66650,\n",
    "    'S9': 66650,\n",
    "    'S10': 66650\n",
    "}\n",
    "\n",
    "final_beginning = {\n",
    "    'S1': 35808,\n",
    "    'S2': 36130,\n",
    "    'S3': 1265,\n",
    "    'S4': 24880,\n",
    "    'S5': 1282,\n",
    "    'S6': 44114,\n",
    "    'S7': 37090,\n",
    "    'S8': 23962,\n",
    "    'S9': 47787,\n",
    "    'S10': 47950\n",
    "}"
   ]
  },
  {
   "cell_type": "markdown",
   "metadata": {
    "collapsed": false
   },
   "source": [
    "U članku je navedeno da se za dobivanje linije trenda vodljivosti kože koristi niskopropunsi FIR filtar. Stoga, definirana je funkcija lowpass_butter_filter() koja implementira funkcionalnost filtra. Također, definirane su i cutoff frekvencije za ekstrakciju navedenih linija trenda. Iznosi frekvencija očitani su iz tablice u članku."
   ]
  },
  {
   "cell_type": "code",
   "execution_count": 27,
   "metadata": {},
   "outputs": [],
   "source": [
    "from scipy.signal import butter, filtfilt\n",
    "\n",
    "def lowpass_butter_filter(data, cutoff, sampling_frequency, order=4):\n",
    "    nyq = 0.5 * sampling_frequency\n",
    "    normal_cutoff = cutoff / nyq\n",
    "    b, a = butter(order, normal_cutoff, btype='low', analog=False)\n",
    "    y = filtfilt(b, a, data, axis=0)\n",
    "\n",
    "    return pd.DataFrame(y, columns=[data.columns[0]])"
   ]
  },
  {
   "cell_type": "code",
   "execution_count": 28,
   "metadata": {},
   "outputs": [
    {
     "data": {
      "text/html": [
       "<div>\n",
       "<style scoped>\n",
       "    .dataframe tbody tr th:only-of-type {\n",
       "        vertical-align: middle;\n",
       "    }\n",
       "\n",
       "    .dataframe tbody tr th {\n",
       "        vertical-align: top;\n",
       "    }\n",
       "\n",
       "    .dataframe thead th {\n",
       "        text-align: right;\n",
       "    }\n",
       "</style>\n",
       "<table border=\"1\" class=\"dataframe\">\n",
       "  <thead>\n",
       "    <tr style=\"text-align: right;\">\n",
       "      <th></th>\n",
       "      <th>Midterm 1</th>\n",
       "      <th>Midterm 2</th>\n",
       "      <th>Final</th>\n",
       "    </tr>\n",
       "  </thead>\n",
       "  <tbody>\n",
       "    <tr>\n",
       "      <th>0</th>\n",
       "      <td>0.0020</td>\n",
       "      <td>0.0020</td>\n",
       "      <td>0.0020</td>\n",
       "    </tr>\n",
       "    <tr>\n",
       "      <th>1</th>\n",
       "      <td>0.0020</td>\n",
       "      <td>0.0010</td>\n",
       "      <td>0.0020</td>\n",
       "    </tr>\n",
       "    <tr>\n",
       "      <th>2</th>\n",
       "      <td>0.0002</td>\n",
       "      <td>0.0002</td>\n",
       "      <td>0.0010</td>\n",
       "    </tr>\n",
       "    <tr>\n",
       "      <th>3</th>\n",
       "      <td>0.0020</td>\n",
       "      <td>0.0020</td>\n",
       "      <td>0.0020</td>\n",
       "    </tr>\n",
       "    <tr>\n",
       "      <th>4</th>\n",
       "      <td>0.0010</td>\n",
       "      <td>0.0010</td>\n",
       "      <td>0.0010</td>\n",
       "    </tr>\n",
       "    <tr>\n",
       "      <th>5</th>\n",
       "      <td>0.0020</td>\n",
       "      <td>0.0020</td>\n",
       "      <td>0.0020</td>\n",
       "    </tr>\n",
       "    <tr>\n",
       "      <th>6</th>\n",
       "      <td>0.0010</td>\n",
       "      <td>0.0002</td>\n",
       "      <td>0.0002</td>\n",
       "    </tr>\n",
       "    <tr>\n",
       "      <th>7</th>\n",
       "      <td>0.0002</td>\n",
       "      <td>0.0020</td>\n",
       "      <td>0.0020</td>\n",
       "    </tr>\n",
       "    <tr>\n",
       "      <th>8</th>\n",
       "      <td>0.0020</td>\n",
       "      <td>0.0020</td>\n",
       "      <td>0.0020</td>\n",
       "    </tr>\n",
       "    <tr>\n",
       "      <th>9</th>\n",
       "      <td>0.0020</td>\n",
       "      <td>0.0020</td>\n",
       "      <td>0.0020</td>\n",
       "    </tr>\n",
       "  </tbody>\n",
       "</table>\n",
       "</div>"
      ],
      "text/plain": [
       "   Midterm 1  Midterm 2   Final\n",
       "0     0.0020     0.0020  0.0020\n",
       "1     0.0020     0.0010  0.0020\n",
       "2     0.0002     0.0002  0.0010\n",
       "3     0.0020     0.0020  0.0020\n",
       "4     0.0010     0.0010  0.0010\n",
       "5     0.0020     0.0020  0.0020\n",
       "6     0.0010     0.0002  0.0002\n",
       "7     0.0002     0.0020  0.0020\n",
       "8     0.0020     0.0020  0.0020\n",
       "9     0.0020     0.0020  0.0020"
      ]
     },
     "execution_count": 28,
     "metadata": {},
     "output_type": "execute_result"
    }
   ],
   "source": [
    "cutoff_freq = pd.DataFrame(\n",
    "    {\n",
    "        'Midterm 1': [0.002, 0.002, 0.0002, 0.002, 0.001, 0.002, 0.001, 0.0002, 0.002, 0.002],\n",
    "        'Midterm 2': [0.002, 0.001, 0.0002, 0.002, 0.001, 0.002, 0.0002, 0.002, 0.002, 0.002],\n",
    "        'Final': [0.002, 0.002, 0.001, 0.002, 0.001, 0.002, 0.0002, 0.002, 0.002, 0.002],\n",
    "    }\n",
    ")\n",
    "cutoff_freq"
   ]
  },
  {
   "cell_type": "markdown",
   "metadata": {
    "collapsed": false
   },
   "source": [
    "Koristeći postupke opisane u odjeljku II.D u članku, određene su značajke za pojedine studente za pojedini ispit."
   ]
  },
  {
   "cell_type": "code",
   "execution_count": 29,
   "metadata": {},
   "outputs": [],
   "source": [
    "#Konačni feature list extractain iz odrezanog EDA\n",
    "def feature_engineer_from_test(test, time_read, cutoff_freq, acc_beginning):\n",
    "    all_students = []\n",
    "    removable_eda_samples = []#lista odrezanih data sampleova svakog studneta\n",
    "    for i in range (1, 11):      \n",
    "        #ucitavanje, uzimanje y stupca, micanje retka sa frekvencijom\n",
    "        accY = pd.read_csv('Data/S' + str(i) + '/' + str(test) + '/ACC.csv')\n",
    "        accY = accY[accY.columns[1]]\n",
    "        accY = accY.iloc[1:]\n",
    "\n",
    "\n",
    "        student = 'S'+str(i)\n",
    "        start = acc_beginning[student]\n",
    "        #rezanje accY\n",
    "        accY = accY.iloc[start:]\n",
    "\n",
    "        #racunanje koliko smo vremena odrezali iza accY\n",
    "        accY_sample_rate = 32\n",
    "        eda_sample_rate = 4\n",
    "        time_accY = start / accY_sample_rate\n",
    "        print(time_accY)\n",
    "\n",
    "        #racunanje koliko mjerenja iz eda treba maknut na temelju vremena i sample_ratea\n",
    "        eda_samples_to_remove = math.floor(time_accY * eda_sample_rate)\n",
    "        removable_eda_samples.append(eda_samples_to_remove)\n",
    "        print(eda_samples_to_remove)\n",
    "\n",
    "        df = pd.read_csv ('Data/S' + str(i) + '/' + str(test) + '/EDA.csv')\n",
    "        df = df.iloc[eda_samples_to_remove:]\n",
    "        cutoff = cutoff_freq.at[i-1, test]\n",
    "        df = lowpass_butter_filter(df, cutoff, 4.000)\n",
    "        data =[]\n",
    "        for j in df.values:\n",
    "            data.append (j)\n",
    "        range1 = int(time_read*60*4)\n",
    "\n",
    "\n",
    "        first_data = data[0:range1]\n",
    "        second_data = data[int(len(data)/2) - int(range1/2) : int(len(data)/2) + int(range1/2)]\n",
    "        third_data = data[len(data) - range1 : len(data)]\n",
    "\n",
    "        mi1 = np.mean (first_data)\n",
    "        mi2 = np.mean (second_data)\n",
    "        mi3 = np.mean (third_data)\n",
    "\n",
    "        sigma1 = np.var (first_data)\n",
    "        sigma2 = np.var (second_data)\n",
    "        sigma3 = np.var (third_data)\n",
    "\n",
    "        ro = mi2 / (mi1 + mi3)\n",
    "\n",
    "        diff = np.array(third_data) - np.array(first_data)\n",
    "        mi_diff = np.mean (diff)\n",
    "        sigma_diff = np.var (diff)\n",
    "\n",
    "        x = [mi1, mi2, mi3, sigma1, sigma2, sigma3, ro, mi_diff, sigma_diff]\n",
    "        all_students.append(x)\n",
    "    return pd.DataFrame(all_students), removable_eda_samples"
   ]
  },
  {
   "cell_type": "code",
   "execution_count": 30,
   "metadata": {},
   "outputs": [
    {
     "name": "stdout",
     "output_type": "stream",
     "text": [
      "1457.8125\n",
      "5831\n",
      "1478.125\n",
      "5912\n",
      "1415.375\n",
      "5661\n",
      "1444.84375\n",
      "5779\n",
      "1502.5\n",
      "6010\n",
      "1390.625\n",
      "5562\n",
      "1415.75\n",
      "5663\n",
      "1443.4375\n",
      "5773\n",
      "1458.65625\n",
      "5834\n",
      "1498.4375\n",
      "5993\n",
      "1457.8125\n",
      "5831\n",
      "1478.125\n",
      "5912\n",
      "1415.375\n",
      "5661\n",
      "1444.84375\n",
      "5779\n",
      "1502.5\n",
      "6010\n",
      "1390.625\n",
      "5562\n",
      "1415.75\n",
      "5663\n",
      "1443.4375\n",
      "5773\n",
      "1458.65625\n",
      "5834\n",
      "1498.4375\n",
      "5993\n",
      "1457.8125\n",
      "5831\n",
      "1478.125\n",
      "5912\n",
      "1415.375\n",
      "5661\n",
      "1444.84375\n",
      "5779\n",
      "1502.5\n",
      "6010\n",
      "1390.625\n",
      "5562\n",
      "1415.75\n",
      "5663\n",
      "1443.4375\n",
      "5773\n",
      "1458.65625\n",
      "5834\n",
      "1498.4375\n",
      "5993\n",
      "2082.8125\n",
      "8331\n",
      "2082.8125\n",
      "8331\n",
      "2082.8125\n",
      "8331\n",
      "2082.8125\n",
      "8331\n",
      "2082.8125\n",
      "8331\n",
      "2082.8125\n",
      "8331\n",
      "2082.8125\n",
      "8331\n",
      "2082.8125\n",
      "8331\n",
      "2082.8125\n",
      "8331\n",
      "2082.8125\n",
      "8331\n",
      "2082.8125\n",
      "8331\n",
      "2082.8125\n",
      "8331\n",
      "2082.8125\n",
      "8331\n",
      "2082.8125\n",
      "8331\n",
      "2082.8125\n",
      "8331\n",
      "2082.8125\n",
      "8331\n",
      "2082.8125\n",
      "8331\n",
      "2082.8125\n",
      "8331\n",
      "2082.8125\n",
      "8331\n",
      "2082.8125\n",
      "8331\n",
      "2082.8125\n",
      "8331\n",
      "2082.8125\n",
      "8331\n",
      "2082.8125\n",
      "8331\n",
      "2082.8125\n",
      "8331\n",
      "2082.8125\n",
      "8331\n",
      "2082.8125\n",
      "8331\n",
      "2082.8125\n",
      "8331\n",
      "2082.8125\n",
      "8331\n",
      "2082.8125\n",
      "8331\n",
      "2082.8125\n",
      "8331\n",
      "1119.0\n",
      "4476\n",
      "1129.0625\n",
      "4516\n",
      "39.53125\n",
      "158\n",
      "777.5\n",
      "3110\n",
      "40.0625\n",
      "160\n",
      "1378.5625\n",
      "5514\n",
      "1159.0625\n",
      "4636\n",
      "748.8125\n",
      "2995\n",
      "1493.34375\n",
      "5973\n",
      "1498.4375\n",
      "5993\n",
      "1119.0\n",
      "4476\n",
      "1129.0625\n",
      "4516\n",
      "39.53125\n",
      "158\n",
      "777.5\n",
      "3110\n",
      "40.0625\n",
      "160\n",
      "1378.5625\n",
      "5514\n",
      "1159.0625\n",
      "4636\n",
      "748.8125\n",
      "2995\n",
      "1493.34375\n",
      "5973\n",
      "1498.4375\n",
      "5993\n",
      "1119.0\n",
      "4476\n",
      "1129.0625\n",
      "4516\n",
      "39.53125\n",
      "158\n",
      "777.5\n",
      "3110\n",
      "40.0625\n",
      "160\n",
      "1378.5625\n",
      "5514\n",
      "1159.0625\n",
      "4636\n",
      "748.8125\n",
      "2995\n",
      "1493.34375\n",
      "5973\n",
      "1498.4375\n",
      "5993\n"
     ]
    }
   ],
   "source": [
    "#FEATURE ENGINEERING\n",
    "time_reads = [5,15,30]\n",
    "tests = ['Midterm 1', 'Midterm 2', 'Final']\n",
    "\n",
    "\n",
    "midterm1_5min, remove_eda_m1 = feature_engineer_from_test('Midterm 1', 5, cutoff_freq, midterm1_beginning)\n",
    "midterm1_15min, remove_eda_m1 = feature_engineer_from_test('Midterm 1', 15, cutoff_freq, midterm1_beginning)\n",
    "midterm1_30min, remove_eda_m1 = feature_engineer_from_test('Midterm 1', 30, cutoff_freq, midterm1_beginning)\n",
    "\n",
    "midterm2_5min, remove_eda_m2 = feature_engineer_from_test('Midterm 2', 5, cutoff_freq, midterm2_beginning)\n",
    "midterm2_15min, remove_eda_m2 = feature_engineer_from_test('Midterm 2', 15, cutoff_freq, midterm2_beginning)\n",
    "midterm2_30min, remove_eda_m2 = feature_engineer_from_test('Midterm 2', 30, cutoff_freq, midterm2_beginning)\n",
    "\n",
    "final_5min, remove_eda_f = feature_engineer_from_test('Final', 5, cutoff_freq, final_beginning)\n",
    "final_15min, remove_eda_f = feature_engineer_from_test('Final', 15, cutoff_freq, final_beginning)\n",
    "final_30min, remove_eda_f = feature_engineer_from_test('Final', 30, cutoff_freq, final_beginning)"
   ]
  },
  {
   "cell_type": "markdown",
   "metadata": {
    "collapsed": false
   },
   "source": [
    "Konačno, grafički su prikazane linije trenda srednjih vrijednosti vodljivosti kože za studente po ispitima."
   ]
  },
  {
   "cell_type": "code",
   "execution_count": 31,
   "metadata": {},
   "outputs": [],
   "source": [
    "#plottanje mean SC trendlinea\n",
    "def plot_SC_exam(removable_eda, test, file):\n",
    "    eda_lengths = []\n",
    "    for i in range(1,11):\n",
    "        eda_df = pd.read_csv('Data/S' + str(i) + '/' + str(test) + '/' + file)\n",
    "        eda_lengths.append(len(eda_df))\n",
    "    ending = min(eda_lengths)\n",
    "    start = max(removable_eda)\n",
    "    \n",
    "    eda_points_list = [0] * (ending-start)\n",
    "    for i in range(1,11):\n",
    "        eda_df = pd.read_csv('Data/S' + str(i) + '/' + str(test) + '/' + file)\n",
    "        eda_df = eda_df[start:ending]\n",
    "        for j, value in enumerate(eda_df.values):\n",
    "            eda_points_list[j]+=value\n",
    "    mean_sc = [val/10 for val in eda_points_list]\n",
    "    x = [i for i in range(ending-start)]\n",
    "    plt.plot(x, mean_sc)"
   ]
  },
  {
   "cell_type": "code",
   "execution_count": 17,
   "metadata": {},
   "outputs": [
    {
     "data": {
      "image/png": "[encoded data removed]",
      "text/plain": [
       "<Figure size 432x288 with 1 Axes>"
      ]
     },
     "metadata": {
      "needs_background": "light"
     },
     "output_type": "display_data"
    }
   ],
   "source": [
    "plot_SC_exam(remove_eda_m1, 'Midterm 1', 'EDA.csv')"
   ]
  },
  {
   "cell_type": "code",
   "execution_count": 18,
   "metadata": {},
   "outputs": [
    {
     "data": {
      "image/png": "[encoded data removed]",
      "text/plain": [
       "<Figure size 432x288 with 1 Axes>"
      ]
     },
     "metadata": {
      "needs_background": "light"
     },
     "output_type": "display_data"
    }
   ],
   "source": [
    "plot_SC_exam(remove_eda_m2, 'Midterm 2', 'EDA.csv')"
   ]
  },
  {
   "cell_type": "code",
   "execution_count": 19,
   "metadata": {},
   "outputs": [
    {
     "data": {
      "image/png": "[encoded data removed]",
      "text/plain": [
       "<Figure size 432x288 with 1 Axes>"
      ]
     },
     "metadata": {
      "needs_background": "light"
     },
     "output_type": "display_data"
    }
   ],
   "source": [
    "plot_SC_exam(remove_eda_f, 'Final', 'EDA.csv')"
   ]
  },
  {
   "cell_type": "markdown",
   "metadata": {
    "collapsed": false
   },
   "source": [
    "Također, prikazan je odnos srednjih vrijednosti vodljivosti kože za dvije klase studenata s obzirom na uspjeh na ispitu (barem 80% ili manje)."
   ]
  },
  {
   "cell_type": "code",
   "execution_count": 36,
   "metadata": {},
   "outputs": [],
   "source": [
    "#plottanje mean SC trendlinea\n",
    "def plot_SC_exam_for_HG(removable_eda, test, points_dict, file):\n",
    "    eda_lengths = []\n",
    "    higher_grade_students = []\n",
    "    hg_removable_eda = []\n",
    "    \n",
    "    for student, grade in points_dict.items():\n",
    "        if grade >= 80:\n",
    "            higher_grade_students.append(student)\n",
    "            hg_removable_eda.append(removable_eda[int(student[-1])])\n",
    "    for student in higher_grade_students:\n",
    "        eda_df = pd.read_csv('Data/' + student + '/' + str(test) + '/' + file)\n",
    "        eda_lengths.append(len(eda_df))\n",
    "        \n",
    "    ending = min(eda_lengths)\n",
    "    start = max(hg_removable_eda)\n",
    "    \n",
    "    eda_points_list = [0] * (ending-start)\n",
    "    for student in higher_grade_students:\n",
    "        eda_df = pd.read_csv('Data/' + student + '/' + str(test) + '/' + file)\n",
    "        eda_df = eda_df[start:ending]\n",
    "        for j, value in enumerate(eda_df.values):\n",
    "            eda_points_list[j]+=value\n",
    "    mean_sc = [val/len(hg_removable_eda) for val in eda_points_list]\n",
    "    x = [i for i in range(ending-start)]\n",
    "    plt.plot(x, mean_sc, label=\"High grade\")\n",
    "    \n",
    "#plottanje mean SC trendlinea\n",
    "def plot_SC_exam_for_LG(removable_eda, test, points_dict, file):\n",
    "    eda_lengths = []\n",
    "    lower_grade_students = []\n",
    "    lg_removable_eda = []\n",
    "    \n",
    "    for student, grade in points_dict.items():\n",
    "        if grade < 80:\n",
    "            lower_grade_students.append(student)\n",
    "            lg_removable_eda.append(removable_eda[int(student[-1])])\n",
    "            \n",
    "    for student in lower_grade_students:\n",
    "        eda_df = pd.read_csv('Data/' + student + '/' + str(test) + '/' + file)\n",
    "        eda_lengths.append(len(eda_df))\n",
    "    ending = min(eda_lengths)\n",
    "    start = max(lg_removable_eda)\n",
    "    \n",
    "    eda_points_list = [0] * (ending-start)\n",
    "    for student in lower_grade_students:\n",
    "        eda_df = pd.read_csv('Data/' + student + '/' + str(test) + '/' + file)\n",
    "        eda_df = eda_df[start:ending]\n",
    "        for j, value in enumerate(eda_df.values):\n",
    "            eda_points_list[j]+=value\n",
    "    mean_sc = [val/len(lg_removable_eda) for val in eda_points_list]\n",
    "    x = [i for i in range(ending-start)]\n",
    "    plt.plot(x, mean_sc, label=\"Low grade\")"
   ]
  },
  {
   "cell_type": "code",
   "execution_count": 37,
   "metadata": {},
   "outputs": [
    {
     "data": {
      "text/plain": [
       "<matplotlib.legend.Legend at 0x22f97b69190>"
      ]
     },
     "execution_count": 37,
     "metadata": {},
     "output_type": "execute_result"
    },
    {
     "data": {
      "image/png": "[encoded data removed]",
      "text/plain": [
       "<Figure size 432x288 with 1 Axes>"
      ]
     },
     "metadata": {
      "needs_background": "light"
     },
     "output_type": "display_data"
    }
   ],
   "source": [
    "plt.figure()\n",
    "plot_SC_exam_for_HG(remove_eda_m1, 'Midterm 1', midterm_points, 'EDA.csv')\n",
    "plot_SC_exam_for_LG(remove_eda_m1, 'Midterm 1', midterm_points, 'EDA.csv')\n",
    "plt.legend()"
   ]
  },
  {
   "cell_type": "code",
   "execution_count": 38,
   "metadata": {},
   "outputs": [
    {
     "data": {
      "text/plain": [
       "<matplotlib.legend.Legend at 0x22f940da3d0>"
      ]
     },
     "execution_count": 38,
     "metadata": {},
     "output_type": "execute_result"
    },
    {
     "data": {
      "image/png": "[encoded data removed]",
      "text/plain": [
       "<Figure size 432x288 with 1 Axes>"
      ]
     },
     "metadata": {
      "needs_background": "light"
     },
     "output_type": "display_data"
    }
   ],
   "source": [
    "plt.figure()\n",
    "plot_SC_exam_for_HG(remove_eda_m2, 'Midterm 2', midterm2_points, 'EDA.csv')\n",
    "plot_SC_exam_for_LG(remove_eda_m2, 'Midterm 2', midterm2_points, 'EDA.csv')\n",
    "plt.legend()"
   ]
  },
  {
   "cell_type": "code",
   "execution_count": 39,
   "metadata": {},
   "outputs": [
    {
     "data": {
      "text/plain": [
       "<matplotlib.legend.Legend at 0x22f80b20a30>"
      ]
     },
     "execution_count": 39,
     "metadata": {},
     "output_type": "execute_result"
    },
    {
     "data": {
      "image/png": "[encoded data removed]",
      "text/plain": [
       "<Figure size 432x288 with 1 Axes>"
      ]
     },
     "metadata": {
      "needs_background": "light"
     },
     "output_type": "display_data"
    }
   ],
   "source": [
    "plt.figure()\n",
    "plot_SC_exam_for_HG(remove_eda_f, 'Final', final_points, 'EDA.csv')\n",
    "plot_SC_exam_for_LG(remove_eda_f, 'Final', final_points, 'EDA.csv')\n",
    "plt.legend()"
   ]
  },
  {
   "cell_type": "markdown",
   "metadata": {
    "collapsed": false
   },
   "source": [
    "Potom su prikazane linije trenda srednje vrijednosti temperature kože za studente po ispitima te njihov odnos s obzirom na dvije navedene klase."
   ]
  },
  {
   "cell_type": "code",
   "execution_count": 40,
   "metadata": {},
   "outputs": [
    {
     "data": {
      "image/png": "[encoded data removed]",
      "text/plain": [
       "<Figure size 432x288 with 1 Axes>"
      ]
     },
     "metadata": {
      "needs_background": "light"
     },
     "output_type": "display_data"
    }
   ],
   "source": [
    "plot_SC_exam(remove_eda_m2, 'Midterm 2', 'TEMP.csv')"
   ]
  },
  {
   "cell_type": "code",
   "execution_count": 41,
   "metadata": {},
   "outputs": [
    {
     "data": {
      "image/png": "[encoded data removed]",
      "text/plain": [
       "<Figure size 432x288 with 1 Axes>"
      ]
     },
     "metadata": {
      "needs_background": "light"
     },
     "output_type": "display_data"
    }
   ],
   "source": [
    "plot_SC_exam(remove_eda_f, 'Final', 'TEMP.csv')"
   ]
  },
  {
   "cell_type": "code",
   "execution_count": 42,
   "metadata": {},
   "outputs": [
    {
     "data": {
      "text/plain": [
       "<matplotlib.legend.Legend at 0x22ff258c190>"
      ]
     },
     "execution_count": 42,
     "metadata": {},
     "output_type": "execute_result"
    },
    {
     "data": {
      "image/png": "[encoded data removed]",
      "text/plain": [
       "<Figure size 432x288 with 1 Axes>"
      ]
     },
     "metadata": {
      "needs_background": "light"
     },
     "output_type": "display_data"
    }
   ],
   "source": [
    "plt.figure()\n",
    "plot_SC_exam_for_HG(remove_eda_m2, 'Midterm 2', midterm2_points, 'TEMP.csv')\n",
    "plot_SC_exam_for_LG(remove_eda_m2, 'Midterm 2', midterm2_points, 'TEMP.csv')\n",
    "plt.legend()"
   ]
  },
  {
   "cell_type": "code",
   "execution_count": 43,
   "metadata": {},
   "outputs": [
    {
     "data": {
      "text/plain": [
       "<matplotlib.legend.Legend at 0x22ff258ce20>"
      ]
     },
     "execution_count": 43,
     "metadata": {},
     "output_type": "execute_result"
    },
    {
     "data": {
      "image/png": "[encoded data removed]",
      "text/plain": [
       "<Figure size 432x288 with 1 Axes>"
      ]
     },
     "metadata": {
      "needs_background": "light"
     },
     "output_type": "display_data"
    }
   ],
   "source": [
    "plt.figure()\n",
    "plot_SC_exam_for_HG(remove_eda_f, 'Final', final_points, 'TEMP.csv')\n",
    "plot_SC_exam_for_LG(remove_eda_f, 'Final', final_points, 'TEMP.csv')\n",
    "plt.legend()"
   ]
  },
  {
   "cell_type": "code",
   "execution_count": 44,
   "metadata": {},
   "outputs": [],
   "source": [
    "#LABEL ENGINEERING\n",
    "def label_engineering(points_data):\n",
    "    y = []\n",
    "    for el in points_data:\n",
    "        if(points_data[el] >= 80):\n",
    "            y.append(1)\n",
    "        else:\n",
    "            y.append(0)\n",
    "    #print(pd.DataFrame(y))\n",
    "    return pd.DataFrame(y)\n",
    "\n",
    "midterm_y = label_engineering(midterm_points)\n",
    "midterm2_y = label_engineering(midterm2_points)\n",
    "final_y = label_engineering(final_points)           "
   ]
  },
  {
   "cell_type": "code",
   "execution_count": 45,
   "metadata": {},
   "outputs": [
    {
     "name": "stdout",
     "output_type": "stream",
     "text": [
      "          0         1         2             3         4             5  \\\n",
      "0  0.024309  0.146724  0.026885  1.570488e-07  0.002854  1.889410e-06   \n",
      "1  0.012315  0.328770  0.013813  3.470515e-07  0.012429  9.957509e-07   \n",
      "2  0.142202  0.179196  0.270388  4.584087e-03  0.000039  2.613740e-07   \n",
      "3  0.008222  0.122902  0.000060  5.204824e-04  0.000168  1.952573e-08   \n",
      "4 -0.008931  0.173713 -0.000853  1.425699e-03  0.000278  1.693918e-06   \n",
      "5 -0.000012  1.181541  0.005511  1.959602e-08  0.016280  1.660114e-04   \n",
      "6  0.000277  0.230773  0.000059  4.496461e-06  0.000804  2.584379e-07   \n",
      "7  0.016551  0.753663  0.849201  2.167874e-04  0.003382  1.289554e-06   \n",
      "8  0.013682  0.316363  0.014406  2.354538e-06  0.000304  3.433232e-08   \n",
      "9  0.019633  0.365778  0.022173  6.028830e-08  0.000044  7.326629e-07   \n",
      "\n",
      "            6         7         8  \n",
      "0    2.866047  0.002576  0.000002  \n",
      "1   12.582885  0.001498  0.000002  \n",
      "2    0.434318  0.128186  0.004642  \n",
      "3   14.839988 -0.008162  0.000520  \n",
      "4  -17.754705  0.008078  0.001406  \n",
      "5  214.851781  0.005523  0.000166  \n",
      "6  687.152954 -0.000218  0.000004  \n",
      "7    0.870531  0.832650  0.000245  \n",
      "8   11.262963  0.000724  0.000002  \n",
      "9    8.749531  0.002540  0.000001  \n"
     ]
    }
   ],
   "source": [
    "print(midterm1_15min)"
   ]
  },
  {
   "cell_type": "markdown",
   "metadata": {
    "collapsed": false
   },
   "source": [
    "## Klasifikacija\n",
    "\n",
    "Na kraju je pomoću algoritma k najbližih susjeda i 10-erostruke unakrsne provjere određena klasifikacija primjera te su ispisane njihove točnosti. Pritom vrijednosti od 5 i 15 minuta predstavljaju vremenski raspon prozora kojim je očitavana vodljivost s početka, sredine i kraja mjerenja."
   ]
  },
  {
   "cell_type": "code",
   "execution_count": 46,
   "metadata": {},
   "outputs": [],
   "source": [
    "def KNN_for_specific_data(dataframe, y):\n",
    "    kf = KFold(n_splits=10)\n",
    "    print(kf.split(dataframe))\n",
    "    score = []\n",
    "    for i, (train_index, test_index) in enumerate(kf.split(dataframe)):\n",
    "        # print(f\"Fold {i}:\")\n",
    "        # print(f\"  Train: index={train_index}\")\n",
    "        # print(f\"  Test:  index={test_index}\")\n",
    "        \n",
    "        x_train = dataframe.loc[train_index]\n",
    "        x_test = dataframe.loc[test_index]\n",
    "        y_train = y.loc[train_index]\n",
    "        y_test = y.loc[test_index]\n",
    "    \n",
    "        neigh = KNeighborsClassifier(n_neighbors=3).fit(np.array(x_train), np.array(y_train))\n",
    "        #neigh = SVC(kernel='poly').fit(np.array(x_train), np.array(y_train))\n",
    "        score.append(neigh.score(x_test, y_test))\n",
    "    return (score.count(1.0)/len(score)) * 100"
   ]
  },
  {
   "cell_type": "code",
   "execution_count": 47,
   "metadata": {},
   "outputs": [
    {
     "name": "stdout",
     "output_type": "stream",
     "text": [
      "<generator object _BaseKFold.split at 0x0000022FF255AAC0>\n"
     ]
    },
    {
     "name": "stderr",
     "output_type": "stream",
     "text": [
      "c:\\Users\\eleko\\AppData\\Local\\Programs\\Python\\Python39\\lib\\site-packages\\sklearn\\neighbors\\_classification.py:198: DataConversionWarning: A column-vector y was passed when a 1d array was expected. Please change the shape of y to (n_samples,), for example using ravel().\n",
      "  return self._fit(X, y)\n",
      "c:\\Users\\eleko\\AppData\\Local\\Programs\\Python\\Python39\\lib\\site-packages\\sklearn\\neighbors\\_classification.py:198: DataConversionWarning: A column-vector y was passed when a 1d array was expected. Please change the shape of y to (n_samples,), for example using ravel().\n",
      "  return self._fit(X, y)\n",
      "c:\\Users\\eleko\\AppData\\Local\\Programs\\Python\\Python39\\lib\\site-packages\\sklearn\\neighbors\\_classification.py:198: DataConversionWarning: A column-vector y was passed when a 1d array was expected. Please change the shape of y to (n_samples,), for example using ravel().\n",
      "  return self._fit(X, y)\n",
      "c:\\Users\\eleko\\AppData\\Local\\Programs\\Python\\Python39\\lib\\site-packages\\sklearn\\neighbors\\_classification.py:198: DataConversionWarning: A column-vector y was passed when a 1d array was expected. Please change the shape of y to (n_samples,), for example using ravel().\n",
      "  return self._fit(X, y)\n",
      "c:\\Users\\eleko\\AppData\\Local\\Programs\\Python\\Python39\\lib\\site-packages\\sklearn\\neighbors\\_classification.py:198: DataConversionWarning: A column-vector y was passed when a 1d array was expected. Please change the shape of y to (n_samples,), for example using ravel().\n",
      "  return self._fit(X, y)\n",
      "c:\\Users\\eleko\\AppData\\Local\\Programs\\Python\\Python39\\lib\\site-packages\\sklearn\\neighbors\\_classification.py:198: DataConversionWarning: A column-vector y was passed when a 1d array was expected. Please change the shape of y to (n_samples,), for example using ravel().\n",
      "  return self._fit(X, y)\n",
      "c:\\Users\\eleko\\AppData\\Local\\Programs\\Python\\Python39\\lib\\site-packages\\sklearn\\neighbors\\_classification.py:198: DataConversionWarning: A column-vector y was passed when a 1d array was expected. Please change the shape of y to (n_samples,), for example using ravel().\n",
      "  return self._fit(X, y)\n",
      "c:\\Users\\eleko\\AppData\\Local\\Programs\\Python\\Python39\\lib\\site-packages\\sklearn\\neighbors\\_classification.py:198: DataConversionWarning: A column-vector y was passed when a 1d array was expected. Please change the shape of y to (n_samples,), for example using ravel().\n",
      "  return self._fit(X, y)\n",
      "c:\\Users\\eleko\\AppData\\Local\\Programs\\Python\\Python39\\lib\\site-packages\\sklearn\\neighbors\\_classification.py:198: DataConversionWarning: A column-vector y was passed when a 1d array was expected. Please change the shape of y to (n_samples,), for example using ravel().\n",
      "  return self._fit(X, y)\n",
      "c:\\Users\\eleko\\AppData\\Local\\Programs\\Python\\Python39\\lib\\site-packages\\sklearn\\neighbors\\_classification.py:198: DataConversionWarning: A column-vector y was passed when a 1d array was expected. Please change the shape of y to (n_samples,), for example using ravel().\n",
      "  return self._fit(X, y)\n",
      "c:\\Users\\eleko\\AppData\\Local\\Programs\\Python\\Python39\\lib\\site-packages\\sklearn\\neighbors\\_classification.py:198: DataConversionWarning: A column-vector y was passed when a 1d array was expected. Please change the shape of y to (n_samples,), for example using ravel().\n",
      "  return self._fit(X, y)\n",
      "c:\\Users\\eleko\\AppData\\Local\\Programs\\Python\\Python39\\lib\\site-packages\\sklearn\\neighbors\\_classification.py:198: DataConversionWarning: A column-vector y was passed when a 1d array was expected. Please change the shape of y to (n_samples,), for example using ravel().\n",
      "  return self._fit(X, y)\n",
      "c:\\Users\\eleko\\AppData\\Local\\Programs\\Python\\Python39\\lib\\site-packages\\sklearn\\neighbors\\_classification.py:198: DataConversionWarning: A column-vector y was passed when a 1d array was expected. Please change the shape of y to (n_samples,), for example using ravel().\n",
      "  return self._fit(X, y)\n",
      "c:\\Users\\eleko\\AppData\\Local\\Programs\\Python\\Python39\\lib\\site-packages\\sklearn\\neighbors\\_classification.py:198: DataConversionWarning: A column-vector y was passed when a 1d array was expected. Please change the shape of y to (n_samples,), for example using ravel().\n",
      "  return self._fit(X, y)\n",
      "c:\\Users\\eleko\\AppData\\Local\\Programs\\Python\\Python39\\lib\\site-packages\\sklearn\\neighbors\\_classification.py:198: DataConversionWarning: A column-vector y was passed when a 1d array was expected. Please change the shape of y to (n_samples,), for example using ravel().\n",
      "  return self._fit(X, y)\n",
      "c:\\Users\\eleko\\AppData\\Local\\Programs\\Python\\Python39\\lib\\site-packages\\sklearn\\neighbors\\_classification.py:198: DataConversionWarning: A column-vector y was passed when a 1d array was expected. Please change the shape of y to (n_samples,), for example using ravel().\n",
      "  return self._fit(X, y)\n",
      "c:\\Users\\eleko\\AppData\\Local\\Programs\\Python\\Python39\\lib\\site-packages\\sklearn\\neighbors\\_classification.py:198: DataConversionWarning: A column-vector y was passed when a 1d array was expected. Please change the shape of y to (n_samples,), for example using ravel().\n",
      "  return self._fit(X, y)\n",
      "c:\\Users\\eleko\\AppData\\Local\\Programs\\Python\\Python39\\lib\\site-packages\\sklearn\\neighbors\\_classification.py:198: DataConversionWarning: A column-vector y was passed when a 1d array was expected. Please change the shape of y to (n_samples,), for example using ravel().\n",
      "  return self._fit(X, y)\n",
      "c:\\Users\\eleko\\AppData\\Local\\Programs\\Python\\Python39\\lib\\site-packages\\sklearn\\neighbors\\_classification.py:198: DataConversionWarning: A column-vector y was passed when a 1d array was expected. Please change the shape of y to (n_samples,), for example using ravel().\n",
      "  return self._fit(X, y)\n",
      "c:\\Users\\eleko\\AppData\\Local\\Programs\\Python\\Python39\\lib\\site-packages\\sklearn\\neighbors\\_classification.py:198: DataConversionWarning: A column-vector y was passed when a 1d array was expected. Please change the shape of y to (n_samples,), for example using ravel().\n",
      "  return self._fit(X, y)\n",
      "c:\\Users\\eleko\\AppData\\Local\\Programs\\Python\\Python39\\lib\\site-packages\\sklearn\\neighbors\\_classification.py:198: DataConversionWarning: A column-vector y was passed when a 1d array was expected. Please change the shape of y to (n_samples,), for example using ravel().\n",
      "  return self._fit(X, y)\n",
      "c:\\Users\\eleko\\AppData\\Local\\Programs\\Python\\Python39\\lib\\site-packages\\sklearn\\neighbors\\_classification.py:198: DataConversionWarning: A column-vector y was passed when a 1d array was expected. Please change the shape of y to (n_samples,), for example using ravel().\n",
      "  return self._fit(X, y)\n",
      "c:\\Users\\eleko\\AppData\\Local\\Programs\\Python\\Python39\\lib\\site-packages\\sklearn\\neighbors\\_classification.py:198: DataConversionWarning: A column-vector y was passed when a 1d array was expected. Please change the shape of y to (n_samples,), for example using ravel().\n",
      "  return self._fit(X, y)\n",
      "c:\\Users\\eleko\\AppData\\Local\\Programs\\Python\\Python39\\lib\\site-packages\\sklearn\\neighbors\\_classification.py:198: DataConversionWarning: A column-vector y was passed when a 1d array was expected. Please change the shape of y to (n_samples,), for example using ravel().\n",
      "  return self._fit(X, y)\n",
      "c:\\Users\\eleko\\AppData\\Local\\Programs\\Python\\Python39\\lib\\site-packages\\sklearn\\neighbors\\_classification.py:198: DataConversionWarning: A column-vector y was passed when a 1d array was expected. Please change the shape of y to (n_samples,), for example using ravel().\n",
      "  return self._fit(X, y)\n",
      "c:\\Users\\eleko\\AppData\\Local\\Programs\\Python\\Python39\\lib\\site-packages\\sklearn\\neighbors\\_classification.py:198: DataConversionWarning: A column-vector y was passed when a 1d array was expected. Please change the shape of y to (n_samples,), for example using ravel().\n",
      "  return self._fit(X, y)\n",
      "c:\\Users\\eleko\\AppData\\Local\\Programs\\Python\\Python39\\lib\\site-packages\\sklearn\\neighbors\\_classification.py:198: DataConversionWarning: A column-vector y was passed when a 1d array was expected. Please change the shape of y to (n_samples,), for example using ravel().\n",
      "  return self._fit(X, y)\n",
      "c:\\Users\\eleko\\AppData\\Local\\Programs\\Python\\Python39\\lib\\site-packages\\sklearn\\neighbors\\_classification.py:198: DataConversionWarning: A column-vector y was passed when a 1d array was expected. Please change the shape of y to (n_samples,), for example using ravel().\n",
      "  return self._fit(X, y)\n",
      "c:\\Users\\eleko\\AppData\\Local\\Programs\\Python\\Python39\\lib\\site-packages\\sklearn\\neighbors\\_classification.py:198: DataConversionWarning: A column-vector y was passed when a 1d array was expected. Please change the shape of y to (n_samples,), for example using ravel().\n",
      "  return self._fit(X, y)\n",
      "c:\\Users\\eleko\\AppData\\Local\\Programs\\Python\\Python39\\lib\\site-packages\\sklearn\\neighbors\\_classification.py:198: DataConversionWarning: A column-vector y was passed when a 1d array was expected. Please change the shape of y to (n_samples,), for example using ravel().\n",
      "  return self._fit(X, y)\n",
      "c:\\Users\\eleko\\AppData\\Local\\Programs\\Python\\Python39\\lib\\site-packages\\sklearn\\neighbors\\_classification.py:198: DataConversionWarning: A column-vector y was passed when a 1d array was expected. Please change the shape of y to (n_samples,), for example using ravel().\n",
      "  return self._fit(X, y)\n",
      "c:\\Users\\eleko\\AppData\\Local\\Programs\\Python\\Python39\\lib\\site-packages\\sklearn\\neighbors\\_classification.py:198: DataConversionWarning: A column-vector y was passed when a 1d array was expected. Please change the shape of y to (n_samples,), for example using ravel().\n",
      "  return self._fit(X, y)\n",
      "c:\\Users\\eleko\\AppData\\Local\\Programs\\Python\\Python39\\lib\\site-packages\\sklearn\\neighbors\\_classification.py:198: DataConversionWarning: A column-vector y was passed when a 1d array was expected. Please change the shape of y to (n_samples,), for example using ravel().\n",
      "  return self._fit(X, y)\n",
      "c:\\Users\\eleko\\AppData\\Local\\Programs\\Python\\Python39\\lib\\site-packages\\sklearn\\neighbors\\_classification.py:198: DataConversionWarning: A column-vector y was passed when a 1d array was expected. Please change the shape of y to (n_samples,), for example using ravel().\n",
      "  return self._fit(X, y)\n",
      "c:\\Users\\eleko\\AppData\\Local\\Programs\\Python\\Python39\\lib\\site-packages\\sklearn\\neighbors\\_classification.py:198: DataConversionWarning: A column-vector y was passed when a 1d array was expected. Please change the shape of y to (n_samples,), for example using ravel().\n",
      "  return self._fit(X, y)\n",
      "c:\\Users\\eleko\\AppData\\Local\\Programs\\Python\\Python39\\lib\\site-packages\\sklearn\\neighbors\\_classification.py:198: DataConversionWarning: A column-vector y was passed when a 1d array was expected. Please change the shape of y to (n_samples,), for example using ravel().\n",
      "  return self._fit(X, y)\n",
      "c:\\Users\\eleko\\AppData\\Local\\Programs\\Python\\Python39\\lib\\site-packages\\sklearn\\neighbors\\_classification.py:198: DataConversionWarning: A column-vector y was passed when a 1d array was expected. Please change the shape of y to (n_samples,), for example using ravel().\n",
      "  return self._fit(X, y)\n"
     ]
    },
    {
     "name": "stdout",
     "output_type": "stream",
     "text": [
      "Točnost za Midterm 1 (5 min): 50.0 %\n",
      "<generator object _BaseKFold.split at 0x0000022F951F2040>\n",
      "Točnost za Midterm 1 (15 min): 50.0 %\n",
      "<generator object _BaseKFold.split at 0x0000022F951F2040>\n",
      "Točnost za Midterm 2 (5 min): 60.0 %\n",
      "<generator object _BaseKFold.split at 0x0000022F951F2040>\n"
     ]
    },
    {
     "name": "stderr",
     "output_type": "stream",
     "text": [
      "c:\\Users\\eleko\\AppData\\Local\\Programs\\Python\\Python39\\lib\\site-packages\\sklearn\\neighbors\\_classification.py:198: DataConversionWarning: A column-vector y was passed when a 1d array was expected. Please change the shape of y to (n_samples,), for example using ravel().\n",
      "  return self._fit(X, y)\n",
      "c:\\Users\\eleko\\AppData\\Local\\Programs\\Python\\Python39\\lib\\site-packages\\sklearn\\neighbors\\_classification.py:198: DataConversionWarning: A column-vector y was passed when a 1d array was expected. Please change the shape of y to (n_samples,), for example using ravel().\n",
      "  return self._fit(X, y)\n",
      "c:\\Users\\eleko\\AppData\\Local\\Programs\\Python\\Python39\\lib\\site-packages\\sklearn\\neighbors\\_classification.py:198: DataConversionWarning: A column-vector y was passed when a 1d array was expected. Please change the shape of y to (n_samples,), for example using ravel().\n",
      "  return self._fit(X, y)\n",
      "c:\\Users\\eleko\\AppData\\Local\\Programs\\Python\\Python39\\lib\\site-packages\\sklearn\\neighbors\\_classification.py:198: DataConversionWarning: A column-vector y was passed when a 1d array was expected. Please change the shape of y to (n_samples,), for example using ravel().\n",
      "  return self._fit(X, y)\n",
      "c:\\Users\\eleko\\AppData\\Local\\Programs\\Python\\Python39\\lib\\site-packages\\sklearn\\neighbors\\_classification.py:198: DataConversionWarning: A column-vector y was passed when a 1d array was expected. Please change the shape of y to (n_samples,), for example using ravel().\n",
      "  return self._fit(X, y)\n",
      "c:\\Users\\eleko\\AppData\\Local\\Programs\\Python\\Python39\\lib\\site-packages\\sklearn\\neighbors\\_classification.py:198: DataConversionWarning: A column-vector y was passed when a 1d array was expected. Please change the shape of y to (n_samples,), for example using ravel().\n",
      "  return self._fit(X, y)\n",
      "c:\\Users\\eleko\\AppData\\Local\\Programs\\Python\\Python39\\lib\\site-packages\\sklearn\\neighbors\\_classification.py:198: DataConversionWarning: A column-vector y was passed when a 1d array was expected. Please change the shape of y to (n_samples,), for example using ravel().\n",
      "  return self._fit(X, y)\n",
      "c:\\Users\\eleko\\AppData\\Local\\Programs\\Python\\Python39\\lib\\site-packages\\sklearn\\neighbors\\_classification.py:198: DataConversionWarning: A column-vector y was passed when a 1d array was expected. Please change the shape of y to (n_samples,), for example using ravel().\n",
      "  return self._fit(X, y)\n",
      "c:\\Users\\eleko\\AppData\\Local\\Programs\\Python\\Python39\\lib\\site-packages\\sklearn\\neighbors\\_classification.py:198: DataConversionWarning: A column-vector y was passed when a 1d array was expected. Please change the shape of y to (n_samples,), for example using ravel().\n",
      "  return self._fit(X, y)\n",
      "c:\\Users\\eleko\\AppData\\Local\\Programs\\Python\\Python39\\lib\\site-packages\\sklearn\\neighbors\\_classification.py:198: DataConversionWarning: A column-vector y was passed when a 1d array was expected. Please change the shape of y to (n_samples,), for example using ravel().\n",
      "  return self._fit(X, y)\n",
      "c:\\Users\\eleko\\AppData\\Local\\Programs\\Python\\Python39\\lib\\site-packages\\sklearn\\neighbors\\_classification.py:198: DataConversionWarning: A column-vector y was passed when a 1d array was expected. Please change the shape of y to (n_samples,), for example using ravel().\n",
      "  return self._fit(X, y)\n",
      "c:\\Users\\eleko\\AppData\\Local\\Programs\\Python\\Python39\\lib\\site-packages\\sklearn\\neighbors\\_classification.py:198: DataConversionWarning: A column-vector y was passed when a 1d array was expected. Please change the shape of y to (n_samples,), for example using ravel().\n",
      "  return self._fit(X, y)\n",
      "c:\\Users\\eleko\\AppData\\Local\\Programs\\Python\\Python39\\lib\\site-packages\\sklearn\\neighbors\\_classification.py:198: DataConversionWarning: A column-vector y was passed when a 1d array was expected. Please change the shape of y to (n_samples,), for example using ravel().\n",
      "  return self._fit(X, y)\n",
      "c:\\Users\\eleko\\AppData\\Local\\Programs\\Python\\Python39\\lib\\site-packages\\sklearn\\neighbors\\_classification.py:198: DataConversionWarning: A column-vector y was passed when a 1d array was expected. Please change the shape of y to (n_samples,), for example using ravel().\n",
      "  return self._fit(X, y)\n",
      "c:\\Users\\eleko\\AppData\\Local\\Programs\\Python\\Python39\\lib\\site-packages\\sklearn\\neighbors\\_classification.py:198: DataConversionWarning: A column-vector y was passed when a 1d array was expected. Please change the shape of y to (n_samples,), for example using ravel().\n",
      "  return self._fit(X, y)\n",
      "c:\\Users\\eleko\\AppData\\Local\\Programs\\Python\\Python39\\lib\\site-packages\\sklearn\\neighbors\\_classification.py:198: DataConversionWarning: A column-vector y was passed when a 1d array was expected. Please change the shape of y to (n_samples,), for example using ravel().\n",
      "  return self._fit(X, y)\n",
      "c:\\Users\\eleko\\AppData\\Local\\Programs\\Python\\Python39\\lib\\site-packages\\sklearn\\neighbors\\_classification.py:198: DataConversionWarning: A column-vector y was passed when a 1d array was expected. Please change the shape of y to (n_samples,), for example using ravel().\n",
      "  return self._fit(X, y)\n",
      "c:\\Users\\eleko\\AppData\\Local\\Programs\\Python\\Python39\\lib\\site-packages\\sklearn\\neighbors\\_classification.py:198: DataConversionWarning: A column-vector y was passed when a 1d array was expected. Please change the shape of y to (n_samples,), for example using ravel().\n",
      "  return self._fit(X, y)\n",
      "c:\\Users\\eleko\\AppData\\Local\\Programs\\Python\\Python39\\lib\\site-packages\\sklearn\\neighbors\\_classification.py:198: DataConversionWarning: A column-vector y was passed when a 1d array was expected. Please change the shape of y to (n_samples,), for example using ravel().\n",
      "  return self._fit(X, y)\n",
      "c:\\Users\\eleko\\AppData\\Local\\Programs\\Python\\Python39\\lib\\site-packages\\sklearn\\neighbors\\_classification.py:198: DataConversionWarning: A column-vector y was passed when a 1d array was expected. Please change the shape of y to (n_samples,), for example using ravel().\n",
      "  return self._fit(X, y)\n",
      "c:\\Users\\eleko\\AppData\\Local\\Programs\\Python\\Python39\\lib\\site-packages\\sklearn\\neighbors\\_classification.py:198: DataConversionWarning: A column-vector y was passed when a 1d array was expected. Please change the shape of y to (n_samples,), for example using ravel().\n",
      "  return self._fit(X, y)\n"
     ]
    },
    {
     "name": "stdout",
     "output_type": "stream",
     "text": [
      "Točnost za Midterm 2 (15 min): 60.0 %\n",
      "<generator object _BaseKFold.split at 0x0000022F951F2040>\n",
      "Točnost za Final (5 min): 20.0 %\n",
      "<generator object _BaseKFold.split at 0x0000022F951F2040>\n",
      "Točnost za Final (15 min): 20.0 %\n"
     ]
    },
    {
     "name": "stderr",
     "output_type": "stream",
     "text": [
      "c:\\Users\\eleko\\AppData\\Local\\Programs\\Python\\Python39\\lib\\site-packages\\sklearn\\neighbors\\_classification.py:198: DataConversionWarning: A column-vector y was passed when a 1d array was expected. Please change the shape of y to (n_samples,), for example using ravel().\n",
      "  return self._fit(X, y)\n",
      "c:\\Users\\eleko\\AppData\\Local\\Programs\\Python\\Python39\\lib\\site-packages\\sklearn\\neighbors\\_classification.py:198: DataConversionWarning: A column-vector y was passed when a 1d array was expected. Please change the shape of y to (n_samples,), for example using ravel().\n",
      "  return self._fit(X, y)\n"
     ]
    }
   ],
   "source": [
    "print(f\"Točnost za Midterm 1 (5 min): {KNN_for_specific_data(midterm1_5min, midterm_y)} %\")\n",
    "print(f\"Točnost za Midterm 1 (15 min): {KNN_for_specific_data(midterm1_15min, midterm_y)} %\") \n",
    "\n",
    "print(f\"Točnost za Midterm 2 (5 min): {KNN_for_specific_data(midterm2_5min, midterm2_y)} %\")\n",
    "print(f\"Točnost za Midterm 2 (15 min): {KNN_for_specific_data(midterm2_15min, midterm2_y)} %\") \n",
    "\n",
    "print(f\"Točnost za Final (5 min): {KNN_for_specific_data(final_5min, final_y)} %\")\n",
    "print(f\"Točnost za Final (15 min): {KNN_for_specific_data(final_15min, final_y)} %\")"
   ]
  },
  {
   "cell_type": "markdown",
   "metadata": {
    "collapsed": false
   },
   "source": [
    "### NAPOMENA\n",
    "Dobiveni rezultati i grafovi se ne poklapaju u potpunosti s onima u članku. Razlog tome jest naša intuicija i pristranost pri očitavanju početka područja od interesa za y-os podataka s akcelerometra. Također, izgledno je da postoje određene informacije koje su autori članka koristili, a da nama nisu bile dostupne."
   ]
  }
 ],
 "metadata": {
  "kernelspec": {
   "display_name": "Python 3",
   "language": "python",
   "name": "python3"
  },
  "language_info": {
   "codemirror_mode": {
    "name": "ipython",
    "version": 3
   },
   "file_extension": ".py",
   "mimetype": "text/x-python",
   "name": "python",
   "nbconvert_exporter": "python",
   "pygments_lexer": "ipython3",
   "version": "3.9.2"
  },
  "orig_nbformat": 4,
  "vscode": {
   "interpreter": {
    "hash": "3f9578e0925e260d748a1545b29c1dff68e415f36657e7e2c591103669676c37"
   }
  }
 },
 "nbformat": 4,
 "nbformat_minor": 2
}
